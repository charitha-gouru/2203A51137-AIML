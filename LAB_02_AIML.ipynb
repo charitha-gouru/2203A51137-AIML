{
  "nbformat": 4,
  "nbformat_minor": 0,
  "metadata": {
    "colab": {
      "provenance": []
    },
    "kernelspec": {
      "name": "python3",
      "display_name": "Python 3"
    },
    "language_info": {
      "name": "python"
    }
  },
  "cells": [
    {
      "cell_type": "code",
      "execution_count": 1,
      "metadata": {
        "id": "OMeB-1Qpnm8z"
      },
      "outputs": [],
      "source": [
        "import numpy as np"
      ]
    },
    {
      "cell_type": "code",
      "source": [
        "from queue import Queue"
      ],
      "metadata": {
        "id": "l_J_xXr9qoGm"
      },
      "execution_count": 2,
      "outputs": []
    },
    {
      "cell_type": "code",
      "source": [
        "graph = {0: [1,3], 1: [0,2,3], 2: [4,1,5],\n",
        "         3: [4,0,1], 4: [2,3,5], 5: [4,2], 6:[]}\n",
        "print(\"The adjacency list representing the graph is :\")\n",
        "print(graph)"
      ],
      "metadata": {
        "colab": {
          "base_uri": "https://localhost:8080/"
        },
        "id": "uFvA5uVHqoyw",
        "outputId": "9afe36ed-7012-4023-bc51-6dca3eded1e3"
      },
      "execution_count": 3,
      "outputs": [
        {
          "output_type": "stream",
          "name": "stdout",
          "text": [
            "The adjacency list representing the graph is :\n",
            "{0: [1, 3], 1: [0, 2, 3], 2: [4, 1, 5], 3: [4, 0, 1], 4: [2, 3, 5], 5: [4, 2], 6: []}\n"
          ]
        }
      ]
    },
    {
      "cell_type": "code",
      "source": [
        "def bfs(graph, source):\n",
        "  Q = Queue()\n",
        "  visited_vertices = set()\n",
        "  Q.put(source)\n",
        "  visited_vertices.update({0})\n",
        "  while not Q.empty():\n",
        "    vertex = Q.get()\n",
        "    print(vertex, end=\"-->\")\n",
        "    for u in graph[vertex]:\n",
        "      if u not in visited_vertices:\n",
        "        Q.put(u)\n",
        "        visited_vertices.update({u})\n",
        "print(\"BFS traversal of graph with source 0 is:\")\n",
        "bfs(graph, 0)"
      ],
      "metadata": {
        "id": "K1B5bpJ1quCK",
        "colab": {
          "base_uri": "https://localhost:8080/"
        },
        "outputId": "7056f63f-4aed-4eb4-8a16-85b05b466714"
      },
      "execution_count": 4,
      "outputs": [
        {
          "output_type": "stream",
          "name": "stdout",
          "text": [
            "BFS traversal of graph with source 0 is:\n",
            "0-->1-->3-->2-->4-->5-->"
          ]
        }
      ]
    },
    {
      "cell_type": "markdown",
      "source": [
        "**Part-02: Implement Depth First Search Algorithm**"
      ],
      "metadata": {
        "id": "4ug-Tp1-qwOI"
      }
    },
    {
      "cell_type": "code",
      "source": [
        "import numpy as np"
      ],
      "metadata": {
        "id": "AfKDc03kqvI9"
      },
      "execution_count": 5,
      "outputs": []
    },
    {
      "cell_type": "code",
      "source": [
        "from queue import Queue"
      ],
      "metadata": {
        "id": "1xKTK3zAq7HF"
      },
      "execution_count": 6,
      "outputs": []
    },
    {
      "cell_type": "code",
      "source": [
        "graph1 = {'A': ['B','S'],\n",
        "          'B': ['A'],\n",
        "          'C': ['D','E','F','S'],\n",
        "          'D': ['C'],\n",
        "          'E': ['C','H'],\n",
        "          'F': ['C','G'],\n",
        "          'G':['F','H','S'],\n",
        "          'H': ['E','G'],\n",
        "          'S': ['A','C','H']}\n",
        "print(\"The adjacency list representing the graph is :\")\n",
        "print(graph1)"
      ],
      "metadata": {
        "id": "uHJNmtdjq72M",
        "colab": {
          "base_uri": "https://localhost:8080/"
        },
        "outputId": "5a649ff3-1994-4a5c-e69f-37b463f1a6bc"
      },
      "execution_count": 7,
      "outputs": [
        {
          "output_type": "stream",
          "name": "stdout",
          "text": [
            "The adjacency list representing the graph is :\n",
            "{'A': ['B', 'S'], 'B': ['A'], 'C': ['D', 'E', 'F', 'S'], 'D': ['C'], 'E': ['C', 'H'], 'F': ['C', 'G'], 'G': ['F', 'H', 'S'], 'H': ['E', 'G'], 'S': ['A', 'C', 'H']}\n"
          ]
        }
      ]
    },
    {
      "cell_type": "code",
      "source": [
        "def dfs(graph, node, visited):\n",
        "  if node not in visited:\n",
        "    visited.append(node)\n",
        "    for k in graph[node]:\n",
        "      dfs(graph, k, visited)\n",
        "  return visited\n",
        "\n",
        "visited = dfs(graph1, 'D', [])\n",
        "print(visited)"
      ],
      "metadata": {
        "id": "UHs-B1tjrAtJ",
        "colab": {
          "base_uri": "https://localhost:8080/"
        },
        "outputId": "cffc0918-86d5-40cf-bd95-93314e7c4122"
      },
      "execution_count": 8,
      "outputs": [
        {
          "output_type": "stream",
          "name": "stdout",
          "text": [
            "['D', 'C', 'E', 'H', 'G', 'F', 'S', 'A', 'B']\n"
          ]
        }
      ]
    },
    {
      "cell_type": "markdown",
      "source": [
        "**Part-03: Implementation of A* Algorithm/OR Graph Search**"
      ],
      "metadata": {
        "id": "VR0NTSDmrCK6"
      }
    },
    {
      "cell_type": "code",
      "source": [
        "from copy import deepcopy\n",
        "import numpy as np\n",
        "import time\n",
        "\n",
        "def bestsolution(state):\n",
        "    bestsol = np.array([], int).reshape(-1, 9)\n",
        "    count = len(state) - 1\n",
        "    while count != -1:\n",
        "      bestsol = np.insert(bestsol)\n"
      ],
      "metadata": {
        "id": "FqT4CMw0rLju"
      },
      "execution_count": 9,
      "outputs": []
    }
  ]
}