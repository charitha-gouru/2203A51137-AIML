{
  "nbformat": 4,
  "nbformat_minor": 0,
  "metadata": {
    "colab": {
      "provenance": []
    },
    "kernelspec": {
      "name": "python3",
      "display_name": "Python 3"
    },
    "language_info": {
      "name": "python"
    }
  },
  "cells": [
    {
      "cell_type": "code",
      "execution_count": 1,
      "metadata": {
        "id": "SCqCCKL_QBS7"
      },
      "outputs": [],
      "source": [
        "from collections import namedtuple,Counter,defaultdict\n",
        "import random\n",
        "import math\n",
        "import functools\n",
        "cache=functools.lru_cache(10**6)"
      ]
    },
    {
      "cell_type": "code",
      "source": [
        "class Game:\n",
        "     def actions(self, state ):\n",
        "         raise NotImplementedError\n",
        "     def result(self, state , move ):\n",
        "         raise NotImplementedError\n",
        "     def is_terminal (self, state ):\n",
        "         return not self.actions(state)\n",
        "     def utility(self, state , player ):\n",
        "         raise NotImplementedError"
      ],
      "metadata": {
        "id": "o733G-e-QE77"
      },
      "execution_count": 2,
      "outputs": []
    },
    {
      "cell_type": "code",
      "source": [
        "def playgame(game , strategies : dict , verbose=False ):\n",
        "    state = game.initial\n",
        "    while not game.is_terminal (state ):\n",
        "        player = state.to_move\n",
        "        move = strategies [player ](game , state)\n",
        "        state = game.result(state , move)\n",
        "    if verbose:\n",
        "        print('Player', player , 'move:', move)\n",
        "        print(state)\n",
        "    return state\n",
        ""
      ],
      "metadata": {
        "id": "FT1W1EjAQHEf"
      },
      "execution_count": 3,
      "outputs": []
    },
    {
      "cell_type": "code",
      "source": [
        "def minimax_search (game , state ):\n",
        "    player = state. to_move\n",
        "def max_value (state):\n",
        "    if game. is_terminal (state ):\n",
        "        return game.utility(state , player), None\n",
        "        v, move =-infinity , None\n",
        "        for a in game.actions(state ):\n",
        "            v2 , = min_value (game.result(state , a))\n",
        "            if v2 > v:\n",
        "                v, move = v2 , a\n",
        "            return v, move\n",
        "def min_value (state ):\n",
        "    if game. is_terminal (state ):\n",
        "       return game.utility(state , player), None\n",
        "       v, move = +infinity , None\n",
        "       for a in game.actions(state ):\n",
        "           v2 , = max_value (game.result(state , a))\n",
        "           if v2 < v:\n",
        "               v, move = v2 , a\n",
        "               return v, move\n",
        "    return max_value (state)\n",
        "    infinity = math.inf\n",
        ""
      ],
      "metadata": {
        "id": "tbyVFn4sQLlb"
      },
      "execution_count": 4,
      "outputs": []
    },
    {
      "cell_type": "code",
      "source": [
        "def alphabeta_search (game , state ):\n",
        "    player = state. to_move\n",
        "def max_value (state , alpha , beta ):\n",
        "    if game. is_terminal (state ):\n",
        "        return game.utility(state , player), None\n",
        "        v, move = -infinity , None\n",
        "    for a in game.actions(state ):\n",
        "        v2 , = min_value (game.result(state , a), alpha , beta)\n",
        "    if v2 > v:\n",
        "        v, move = v2 , a\n",
        "        alpha = max(alpha , v)\n",
        "    if v >= beta:\n",
        "        return v, move\n",
        "        return v, move\n",
        "def min_value (state , alpha , beta ):\n",
        "    if game. is_terminal (state ):\n",
        "        return game.utility(state , player), None\n",
        "        v, move = +infinity , None\n",
        "    for a in game.actions(state ):\n",
        "        v2 , = max_value (game.result(state , a), alpha , beta)\n",
        "    if v2 < v:\n",
        "        v, move = v2 , a\n",
        "        beta = min(beta , v)\n",
        "    if v <= alpha:\n",
        "        return v, move\n",
        "        return v, move\n",
        "    return max_value (state , -infinity,+infinity)\n",
        ""
      ],
      "metadata": {
        "id": "EFauy_H_QMg2"
      },
      "execution_count": 5,
      "outputs": []
    }
  ]
}